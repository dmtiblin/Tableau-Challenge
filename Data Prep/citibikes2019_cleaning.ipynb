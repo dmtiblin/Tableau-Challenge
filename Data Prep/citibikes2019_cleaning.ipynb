{
  "nbformat": 4,
  "nbformat_minor": 0,
  "metadata": {
    "colab": {
      "name": "citibikes2019_cleaning",
      "provenance": [],
      "collapsed_sections": []
    },
    "kernelspec": {
      "name": "python3",
      "display_name": "Python 3"
    },
    "language_info": {
      "name": "python"
    }
  },
  "cells": [
    {
      "cell_type": "code",
      "execution_count": null,
      "metadata": {
        "id": "o0NCYBX9TxoA"
      },
      "outputs": [],
      "source": [
        "import pandas as pd"
      ]
    },
    {
      "cell_type": "code",
      "source": [
        "url1 = \"https://s3.amazonaws.com/tripdata/201901-citibike-tripdata.csv.zip\"\n",
        "df_201901 = pd.read_csv(url1, compression = 'zip')\n",
        "df_201901.dropna(axis=0, inplace=True)"
      ],
      "metadata": {
        "id": "XH-lzSjET0bC"
      },
      "execution_count": null,
      "outputs": []
    },
    {
      "cell_type": "code",
      "source": [
        "\n",
        "df_201902 = pd.read_csv(\"201902-citibike-tripdata.csv\")\n",
        "df_201902.dropna(axis=0, inplace=True)"
      ],
      "metadata": {
        "id": "mo41y09eT0dc"
      },
      "execution_count": null,
      "outputs": []
    },
    {
      "cell_type": "code",
      "source": [
        "url3 = \"https://s3.amazonaws.com/tripdata/201903-citibike-tripdata.csv.zip\"\n",
        "df_201903 = pd.read_csv(url3, compression = 'zip')\n",
        "df_201903.dropna(axis=0, inplace=True)"
      ],
      "metadata": {
        "id": "0QqJFiL1YceJ"
      },
      "execution_count": null,
      "outputs": []
    },
    {
      "cell_type": "code",
      "source": [
        "url4 = \"https://s3.amazonaws.com/tripdata/201904-citibike-tripdata.csv.zip\"\n",
        "df_201904 = pd.read_csv(url4, compression = 'zip')\n",
        "df_201904.dropna(axis=0, inplace=True)"
      ],
      "metadata": {
        "id": "oRhlYu2CYoXt"
      },
      "execution_count": null,
      "outputs": []
    },
    {
      "cell_type": "code",
      "source": [
        "url5 = \"https://s3.amazonaws.com/tripdata/201905-citibike-tripdata.csv.zip\"\n",
        "df_201905 = pd.read_csv(url5, compression = 'zip')\n",
        "df_201905.dropna(axis=0, inplace=True)"
      ],
      "metadata": {
        "id": "A95PQH0KYzZN"
      },
      "execution_count": null,
      "outputs": []
    },
    {
      "cell_type": "code",
      "source": [
        "url6 = \"https://s3.amazonaws.com/tripdata/201906-citibike-tripdata.csv.zip\"\n",
        "df_201906 = pd.read_csv(url6, compression = 'zip')\n",
        "df_201906.dropna(axis=0, inplace=True)"
      ],
      "metadata": {
        "id": "2Yvtr2ZkYzf6"
      },
      "execution_count": null,
      "outputs": []
    },
    {
      "cell_type": "code",
      "source": [
        "url7 = \"https://s3.amazonaws.com/tripdata/201907-citibike-tripdata.csv.zip\"\n",
        "df_201907 = pd.read_csv(url7, compression = 'zip')\n",
        "df_201907.dropna(axis=0, inplace=True)"
      ],
      "metadata": {
        "id": "GDOFWoyxYzmE"
      },
      "execution_count": null,
      "outputs": []
    },
    {
      "cell_type": "code",
      "source": [
        "url8 = \"https://s3.amazonaws.com/tripdata/201908-citibike-tripdata.csv.zip\"\n",
        "df_201908 = pd.read_csv(url8, compression = 'zip')\n",
        "df_201908.dropna(axis=0, inplace=True)"
      ],
      "metadata": {
        "id": "eCSUZ3JbZESH"
      },
      "execution_count": null,
      "outputs": []
    },
    {
      "cell_type": "code",
      "source": [
        "url9 = \"https://s3.amazonaws.com/tripdata/201909-citibike-tripdata.csv.zip\"\n",
        "df_201909 = pd.read_csv(url9, compression = 'zip')\n",
        "df_201909.dropna(axis=0, inplace=True)"
      ],
      "metadata": {
        "id": "XwqiZ1zZZEZx"
      },
      "execution_count": null,
      "outputs": []
    },
    {
      "cell_type": "code",
      "source": [
        "url10 = \"https://s3.amazonaws.com/tripdata/201910-citibike-tripdata.csv.zip\"\n",
        "df_201910 = pd.read_csv(url10, compression = 'zip')\n",
        "df_201910.dropna(axis=0, inplace=True)"
      ],
      "metadata": {
        "id": "tsO7jrHxZEhy"
      },
      "execution_count": null,
      "outputs": []
    },
    {
      "cell_type": "code",
      "source": [
        "url11 = \"https://s3.amazonaws.com/tripdata/201911-citibike-tripdata.csv.zip\"\n",
        "df_201911 = pd.read_csv(url11, compression = 'zip')\n",
        "df_201911.dropna(axis=0, inplace=True)"
      ],
      "metadata": {
        "id": "VfHz0lsNT0iE"
      },
      "execution_count": null,
      "outputs": []
    },
    {
      "cell_type": "code",
      "source": [
        "url12=\"https://s3.amazonaws.com/tripdata/201912-citibike-tripdata.csv.zip\"\n",
        "df_201912=pd.read_csv(url12, compression = 'zip')"
      ],
      "metadata": {
        "id": "5Lnnm-WkT0k0"
      },
      "execution_count": null,
      "outputs": []
    },
    {
      "cell_type": "code",
      "source": [
        "#merge dfs but exclude December\n",
        "df_2019 = pd.concat([df_201901.sample(frac = .2, axis = 0),df_201902.sample(frac = .2, axis = 0),df_201903.sample(frac = .2, axis = 0),df_201904.sample(frac = .2, axis = 0),df_201905.sample(frac = .2, axis = 0),df_201906.sample(frac = .2, axis = 0),df_201907.sample(frac = .2, axis = 0), df_201908.sample(frac = .2, axis = 0),df_201909.sample(frac = .2, axis = 0),df_201910.sample(frac = .2, axis = 0), df_201911.sample(frac = .2, axis = 0)], axis =0)\n",
        "df_2019.reset_index(drop= True,inplace= True)"
      ],
      "metadata": {
        "id": "L1C85lffT0pc"
      },
      "execution_count": null,
      "outputs": []
    },
    {
      "cell_type": "code",
      "source": [
        "df_2019.drop([\"bikeid\", \"tripduration\"], axis = 1, inplace = True)\n",
        "df_2019"
      ],
      "metadata": {
        "colab": {
          "base_uri": "https://localhost:8080/",
          "height": 745
        },
        "id": "2fA2xvCMa2I-",
        "outputId": "c198f99f-2cce-4227-bc70-1a8dcb509e46"
      },
      "execution_count": null,
      "outputs": [
        {
          "output_type": "execute_result",
          "data": {
            "text/html": [
              "\n",
              "  <div id=\"df-5684cd7c-7dcb-43c9-9382-e5c555c036f0\">\n",
              "    <div class=\"colab-df-container\">\n",
              "      <div>\n",
              "<style scoped>\n",
              "    .dataframe tbody tr th:only-of-type {\n",
              "        vertical-align: middle;\n",
              "    }\n",
              "\n",
              "    .dataframe tbody tr th {\n",
              "        vertical-align: top;\n",
              "    }\n",
              "\n",
              "    .dataframe thead th {\n",
              "        text-align: right;\n",
              "    }\n",
              "</style>\n",
              "<table border=\"1\" class=\"dataframe\">\n",
              "  <thead>\n",
              "    <tr style=\"text-align: right;\">\n",
              "      <th></th>\n",
              "      <th>starttime</th>\n",
              "      <th>stoptime</th>\n",
              "      <th>start station id</th>\n",
              "      <th>start station name</th>\n",
              "      <th>start station latitude</th>\n",
              "      <th>start station longitude</th>\n",
              "      <th>end station id</th>\n",
              "      <th>end station name</th>\n",
              "      <th>end station latitude</th>\n",
              "      <th>end station longitude</th>\n",
              "      <th>usertype</th>\n",
              "      <th>birth year</th>\n",
              "      <th>gender</th>\n",
              "    </tr>\n",
              "  </thead>\n",
              "  <tbody>\n",
              "    <tr>\n",
              "      <th>0</th>\n",
              "      <td>2019-01-29 12:35:04.2830</td>\n",
              "      <td>2019-01-29 12:38:33.6850</td>\n",
              "      <td>3158.0</td>\n",
              "      <td>W 63 St &amp; Broadway</td>\n",
              "      <td>40.771639</td>\n",
              "      <td>-73.982614</td>\n",
              "      <td>3724.0</td>\n",
              "      <td>7 Ave &amp; Central Park South</td>\n",
              "      <td>40.766741</td>\n",
              "      <td>-73.979069</td>\n",
              "      <td>Subscriber</td>\n",
              "      <td>1991</td>\n",
              "      <td>1</td>\n",
              "    </tr>\n",
              "    <tr>\n",
              "      <th>1</th>\n",
              "      <td>2019-01-27 17:08:05.7640</td>\n",
              "      <td>2019-01-27 17:30:52.4580</td>\n",
              "      <td>3701.0</td>\n",
              "      <td>Cliff St &amp; Fulton St</td>\n",
              "      <td>40.708318</td>\n",
              "      <td>-74.005041</td>\n",
              "      <td>254.0</td>\n",
              "      <td>W 11 St &amp; 6 Ave</td>\n",
              "      <td>40.735324</td>\n",
              "      <td>-73.998004</td>\n",
              "      <td>Subscriber</td>\n",
              "      <td>1993</td>\n",
              "      <td>2</td>\n",
              "    </tr>\n",
              "    <tr>\n",
              "      <th>2</th>\n",
              "      <td>2019-01-11 06:07:08.9600</td>\n",
              "      <td>2019-01-11 06:32:13.0730</td>\n",
              "      <td>480.0</td>\n",
              "      <td>W 53 St &amp; 10 Ave</td>\n",
              "      <td>40.766697</td>\n",
              "      <td>-73.990617</td>\n",
              "      <td>3127.0</td>\n",
              "      <td>9 St &amp; 44 Rd</td>\n",
              "      <td>40.749660</td>\n",
              "      <td>-73.952100</td>\n",
              "      <td>Subscriber</td>\n",
              "      <td>1965</td>\n",
              "      <td>1</td>\n",
              "    </tr>\n",
              "    <tr>\n",
              "      <th>3</th>\n",
              "      <td>2019-01-17 09:46:29.9800</td>\n",
              "      <td>2019-01-17 10:12:21.4590</td>\n",
              "      <td>3100.0</td>\n",
              "      <td>Nassau Ave &amp; Newell St</td>\n",
              "      <td>40.724813</td>\n",
              "      <td>-73.947526</td>\n",
              "      <td>161.0</td>\n",
              "      <td>LaGuardia Pl &amp; W 3 St</td>\n",
              "      <td>40.729170</td>\n",
              "      <td>-73.998102</td>\n",
              "      <td>Subscriber</td>\n",
              "      <td>1981</td>\n",
              "      <td>1</td>\n",
              "    </tr>\n",
              "    <tr>\n",
              "      <th>4</th>\n",
              "      <td>2019-01-26 10:28:33.7480</td>\n",
              "      <td>2019-01-26 10:45:58.9020</td>\n",
              "      <td>3414.0</td>\n",
              "      <td>Bergen St &amp; Flatbush Ave</td>\n",
              "      <td>40.680945</td>\n",
              "      <td>-73.975673</td>\n",
              "      <td>3303.0</td>\n",
              "      <td>Butler St &amp; Court St</td>\n",
              "      <td>40.684989</td>\n",
              "      <td>-73.994403</td>\n",
              "      <td>Subscriber</td>\n",
              "      <td>1981</td>\n",
              "      <td>2</td>\n",
              "    </tr>\n",
              "    <tr>\n",
              "      <th>...</th>\n",
              "      <td>...</td>\n",
              "      <td>...</td>\n",
              "      <td>...</td>\n",
              "      <td>...</td>\n",
              "      <td>...</td>\n",
              "      <td>...</td>\n",
              "      <td>...</td>\n",
              "      <td>...</td>\n",
              "      <td>...</td>\n",
              "      <td>...</td>\n",
              "      <td>...</td>\n",
              "      <td>...</td>\n",
              "      <td>...</td>\n",
              "    </tr>\n",
              "    <tr>\n",
              "      <th>3919258</th>\n",
              "      <td>2019-11-01 17:01:05.4480</td>\n",
              "      <td>2019-11-01 18:24:04.6770</td>\n",
              "      <td>2000.0</td>\n",
              "      <td>Front St &amp; Washington St</td>\n",
              "      <td>40.702551</td>\n",
              "      <td>-73.989402</td>\n",
              "      <td>3328.0</td>\n",
              "      <td>W 100 St &amp; Manhattan Ave</td>\n",
              "      <td>40.795000</td>\n",
              "      <td>-73.964500</td>\n",
              "      <td>Customer</td>\n",
              "      <td>1988</td>\n",
              "      <td>1</td>\n",
              "    </tr>\n",
              "    <tr>\n",
              "      <th>3919259</th>\n",
              "      <td>2019-11-01 22:40:01.2310</td>\n",
              "      <td>2019-11-01 23:06:46.4750</td>\n",
              "      <td>330.0</td>\n",
              "      <td>Reade St &amp; Broadway</td>\n",
              "      <td>40.714505</td>\n",
              "      <td>-74.005628</td>\n",
              "      <td>3580.0</td>\n",
              "      <td>St Johns Pl &amp; Washington Ave</td>\n",
              "      <td>40.673724</td>\n",
              "      <td>-73.963161</td>\n",
              "      <td>Subscriber</td>\n",
              "      <td>1989</td>\n",
              "      <td>1</td>\n",
              "    </tr>\n",
              "    <tr>\n",
              "      <th>3919260</th>\n",
              "      <td>2019-11-05 07:34:25.4600</td>\n",
              "      <td>2019-11-05 07:38:04.6030</td>\n",
              "      <td>3372.0</td>\n",
              "      <td>E 74 St &amp; 1 Ave</td>\n",
              "      <td>40.768974</td>\n",
              "      <td>-73.954823</td>\n",
              "      <td>3725.0</td>\n",
              "      <td>2 Ave &amp; E 72 St</td>\n",
              "      <td>40.768762</td>\n",
              "      <td>-73.958408</td>\n",
              "      <td>Subscriber</td>\n",
              "      <td>1977</td>\n",
              "      <td>1</td>\n",
              "    </tr>\n",
              "    <tr>\n",
              "      <th>3919261</th>\n",
              "      <td>2019-11-14 15:08:29.0720</td>\n",
              "      <td>2019-11-14 15:19:11.1740</td>\n",
              "      <td>461.0</td>\n",
              "      <td>E 20 St &amp; 2 Ave</td>\n",
              "      <td>40.735877</td>\n",
              "      <td>-73.982050</td>\n",
              "      <td>379.0</td>\n",
              "      <td>W 31 St &amp; 7 Ave</td>\n",
              "      <td>40.749156</td>\n",
              "      <td>-73.991600</td>\n",
              "      <td>Subscriber</td>\n",
              "      <td>1980</td>\n",
              "      <td>1</td>\n",
              "    </tr>\n",
              "    <tr>\n",
              "      <th>3919262</th>\n",
              "      <td>2019-11-30 16:56:33.9020</td>\n",
              "      <td>2019-11-30 17:08:20.6540</td>\n",
              "      <td>3746.0</td>\n",
              "      <td>6 Ave &amp; Broome St</td>\n",
              "      <td>40.724308</td>\n",
              "      <td>-74.004730</td>\n",
              "      <td>358.0</td>\n",
              "      <td>Christopher St &amp; Greenwich St</td>\n",
              "      <td>40.732916</td>\n",
              "      <td>-74.007114</td>\n",
              "      <td>Subscriber</td>\n",
              "      <td>1994</td>\n",
              "      <td>2</td>\n",
              "    </tr>\n",
              "  </tbody>\n",
              "</table>\n",
              "<p>3919263 rows × 13 columns</p>\n",
              "</div>\n",
              "      <button class=\"colab-df-convert\" onclick=\"convertToInteractive('df-5684cd7c-7dcb-43c9-9382-e5c555c036f0')\"\n",
              "              title=\"Convert this dataframe to an interactive table.\"\n",
              "              style=\"display:none;\">\n",
              "        \n",
              "  <svg xmlns=\"http://www.w3.org/2000/svg\" height=\"24px\"viewBox=\"0 0 24 24\"\n",
              "       width=\"24px\">\n",
              "    <path d=\"M0 0h24v24H0V0z\" fill=\"none\"/>\n",
              "    <path d=\"M18.56 5.44l.94 2.06.94-2.06 2.06-.94-2.06-.94-.94-2.06-.94 2.06-2.06.94zm-11 1L8.5 8.5l.94-2.06 2.06-.94-2.06-.94L8.5 2.5l-.94 2.06-2.06.94zm10 10l.94 2.06.94-2.06 2.06-.94-2.06-.94-.94-2.06-.94 2.06-2.06.94z\"/><path d=\"M17.41 7.96l-1.37-1.37c-.4-.4-.92-.59-1.43-.59-.52 0-1.04.2-1.43.59L10.3 9.45l-7.72 7.72c-.78.78-.78 2.05 0 2.83L4 21.41c.39.39.9.59 1.41.59.51 0 1.02-.2 1.41-.59l7.78-7.78 2.81-2.81c.8-.78.8-2.07 0-2.86zM5.41 20L4 18.59l7.72-7.72 1.47 1.35L5.41 20z\"/>\n",
              "  </svg>\n",
              "      </button>\n",
              "      \n",
              "  <style>\n",
              "    .colab-df-container {\n",
              "      display:flex;\n",
              "      flex-wrap:wrap;\n",
              "      gap: 12px;\n",
              "    }\n",
              "\n",
              "    .colab-df-convert {\n",
              "      background-color: #E8F0FE;\n",
              "      border: none;\n",
              "      border-radius: 50%;\n",
              "      cursor: pointer;\n",
              "      display: none;\n",
              "      fill: #1967D2;\n",
              "      height: 32px;\n",
              "      padding: 0 0 0 0;\n",
              "      width: 32px;\n",
              "    }\n",
              "\n",
              "    .colab-df-convert:hover {\n",
              "      background-color: #E2EBFA;\n",
              "      box-shadow: 0px 1px 2px rgba(60, 64, 67, 0.3), 0px 1px 3px 1px rgba(60, 64, 67, 0.15);\n",
              "      fill: #174EA6;\n",
              "    }\n",
              "\n",
              "    [theme=dark] .colab-df-convert {\n",
              "      background-color: #3B4455;\n",
              "      fill: #D2E3FC;\n",
              "    }\n",
              "\n",
              "    [theme=dark] .colab-df-convert:hover {\n",
              "      background-color: #434B5C;\n",
              "      box-shadow: 0px 1px 3px 1px rgba(0, 0, 0, 0.15);\n",
              "      filter: drop-shadow(0px 1px 2px rgba(0, 0, 0, 0.3));\n",
              "      fill: #FFFFFF;\n",
              "    }\n",
              "  </style>\n",
              "\n",
              "      <script>\n",
              "        const buttonEl =\n",
              "          document.querySelector('#df-5684cd7c-7dcb-43c9-9382-e5c555c036f0 button.colab-df-convert');\n",
              "        buttonEl.style.display =\n",
              "          google.colab.kernel.accessAllowed ? 'block' : 'none';\n",
              "\n",
              "        async function convertToInteractive(key) {\n",
              "          const element = document.querySelector('#df-5684cd7c-7dcb-43c9-9382-e5c555c036f0');\n",
              "          const dataTable =\n",
              "            await google.colab.kernel.invokeFunction('convertToInteractive',\n",
              "                                                     [key], {});\n",
              "          if (!dataTable) return;\n",
              "\n",
              "          const docLinkHtml = 'Like what you see? Visit the ' +\n",
              "            '<a target=\"_blank\" href=https://colab.research.google.com/notebooks/data_table.ipynb>data table notebook</a>'\n",
              "            + ' to learn more about interactive tables.';\n",
              "          element.innerHTML = '';\n",
              "          dataTable['output_type'] = 'display_data';\n",
              "          await google.colab.output.renderOutput(dataTable, element);\n",
              "          const docLink = document.createElement('div');\n",
              "          docLink.innerHTML = docLinkHtml;\n",
              "          element.appendChild(docLink);\n",
              "        }\n",
              "      </script>\n",
              "    </div>\n",
              "  </div>\n",
              "  "
            ],
            "text/plain": [
              "                        starttime                  stoptime  ...  birth year gender\n",
              "0        2019-01-29 12:35:04.2830  2019-01-29 12:38:33.6850  ...        1991      1\n",
              "1        2019-01-27 17:08:05.7640  2019-01-27 17:30:52.4580  ...        1993      2\n",
              "2        2019-01-11 06:07:08.9600  2019-01-11 06:32:13.0730  ...        1965      1\n",
              "3        2019-01-17 09:46:29.9800  2019-01-17 10:12:21.4590  ...        1981      1\n",
              "4        2019-01-26 10:28:33.7480  2019-01-26 10:45:58.9020  ...        1981      2\n",
              "...                           ...                       ...  ...         ...    ...\n",
              "3919258  2019-11-01 17:01:05.4480  2019-11-01 18:24:04.6770  ...        1988      1\n",
              "3919259  2019-11-01 22:40:01.2310  2019-11-01 23:06:46.4750  ...        1989      1\n",
              "3919260  2019-11-05 07:34:25.4600  2019-11-05 07:38:04.6030  ...        1977      1\n",
              "3919261  2019-11-14 15:08:29.0720  2019-11-14 15:19:11.1740  ...        1980      1\n",
              "3919262  2019-11-30 16:56:33.9020  2019-11-30 17:08:20.6540  ...        1994      2\n",
              "\n",
              "[3919263 rows x 13 columns]"
            ]
          },
          "metadata": {},
          "execution_count": 16
        }
      ]
    },
    {
      "cell_type": "code",
      "source": [
        "df_2019.nunique()"
      ],
      "metadata": {
        "colab": {
          "base_uri": "https://localhost:8080/"
        },
        "id": "J5HRqOXrbGZw",
        "outputId": "b8fb9149-6e20-4e74-810d-2d1f675cebce"
      },
      "execution_count": null,
      "outputs": [
        {
          "output_type": "execute_result",
          "data": {
            "text/plain": [
              "starttime                  3918767\n",
              "stoptime                   3918807\n",
              "start station id               919\n",
              "start station name             919\n",
              "start station latitude         923\n",
              "start station longitude        923\n",
              "end station id                 928\n",
              "end station name               929\n",
              "end station latitude           932\n",
              "end station longitude          932\n",
              "usertype                         2\n",
              "birth year                     113\n",
              "gender                           3\n",
              "dtype: int64"
            ]
          },
          "metadata": {},
          "execution_count": 17
        }
      ]
    },
    {
      "cell_type": "code",
      "source": [
        "df_2019.to_csv(\"2019all.csv\")"
      ],
      "metadata": {
        "id": "E63TK_CUatvQ"
      },
      "execution_count": null,
      "outputs": []
    }
  ]
}